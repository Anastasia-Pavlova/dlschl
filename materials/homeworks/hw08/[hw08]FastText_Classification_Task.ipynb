{
 "cells": [
  {
   "cell_type": "markdown",
   "metadata": {
    "deletable": true,
    "editable": true
   },
   "source": [
    "# Школа глубокого обучения\n",
    "\n",
    "<a href=\"https://mipt.ru/science/labs/laboratoriya-neyronnykh-sistem-i-glubokogo-obucheniya/\"><img align=\"right\" src=\"https://avatars1.githubusercontent.com/u/29918795?v=4&s=200\" alt=\"DeepHackLab\" style=\"position:relative;top:-40px;right:10px;height:100px;\" /></a>\n",
    "\n",
    "\n",
    "\n",
    "### Физтех-Школа Прикладной математики и информатики МФТИ \n",
    "### Лаборатория нейронных сетей и глубокого обучения (DeepHackLab)\n",
    "*Дедлайн -- 18 марта.*"
   ]
  },
  {
   "cell_type": "markdown",
   "metadata": {
    "deletable": true,
    "editable": true
   },
   "source": [
    "*Червонцев Сергей (ФИВТ МФТИ)*"
   ]
  },
  {
   "cell_type": "markdown",
   "metadata": {
    "deletable": true,
    "editable": true
   },
   "source": [
    "Привет! В этом задании мы будем предсказывать персонажа Южного парка по его фразе."
   ]
  },
  {
   "cell_type": "markdown",
   "metadata": {
    "deletable": true,
    "editable": true
   },
   "source": [
    "В задании четыре пункта, за которые суммарно можно получить 12 баллов. При этом максимум за задание - 10 баллов. Поэтому некоторые пункты можно пропустить."
   ]
  },
  {
   "cell_type": "markdown",
   "metadata": {
    "deletable": true,
    "editable": true
   },
   "source": [
    "### 1. Обработка данных"
   ]
  },
  {
   "cell_type": "markdown",
   "metadata": {
    "deletable": true,
    "editable": true
   },
   "source": [
    "Сперва скачаем размечанные [диалоги из Южного Парка](https://www.kaggle.com/tovarischsukhov/southparklines/data) и изучим их. Для работы с таблицами нам потребуется [pandas](https://pandas.pydata.org/pandas-docs/stable/install.html)."
   ]
  },
  {
   "cell_type": "code",
   "execution_count": 1,
   "metadata": {
    "collapsed": true,
    "deletable": true,
    "editable": true
   },
   "outputs": [],
   "source": [
    "import numpy as np\n",
    "import matplotlib.pyplot as plt\n",
    "import time, re, random\n",
    "import pandas as pd\n",
    "\n",
    "import torch\n",
    "import torch.nn as nn\n",
    "from torch.autograd import Variable\n",
    "import torch.optim as optim\n",
    "import torch.nn.functional as F"
   ]
  },
  {
   "cell_type": "code",
   "execution_count": 2,
   "metadata": {
    "collapsed": false,
    "deletable": true,
    "editable": true
   },
   "outputs": [
    {
     "data": {
      "text/html": [
       "<div>\n",
       "<table border=\"1\" class=\"dataframe\">\n",
       "  <thead>\n",
       "    <tr style=\"text-align: right;\">\n",
       "      <th></th>\n",
       "      <th>Season</th>\n",
       "      <th>Episode</th>\n",
       "      <th>Character</th>\n",
       "      <th>Line</th>\n",
       "    </tr>\n",
       "  </thead>\n",
       "  <tbody>\n",
       "    <tr>\n",
       "      <th>0</th>\n",
       "      <td>10</td>\n",
       "      <td>1</td>\n",
       "      <td>Stan</td>\n",
       "      <td>You guys, you guys! Chef is going away. \\n</td>\n",
       "    </tr>\n",
       "    <tr>\n",
       "      <th>1</th>\n",
       "      <td>10</td>\n",
       "      <td>1</td>\n",
       "      <td>Kyle</td>\n",
       "      <td>Going away? For how long?\\n</td>\n",
       "    </tr>\n",
       "    <tr>\n",
       "      <th>2</th>\n",
       "      <td>10</td>\n",
       "      <td>1</td>\n",
       "      <td>Stan</td>\n",
       "      <td>Forever.\\n</td>\n",
       "    </tr>\n",
       "    <tr>\n",
       "      <th>3</th>\n",
       "      <td>10</td>\n",
       "      <td>1</td>\n",
       "      <td>Chef</td>\n",
       "      <td>I'm sorry boys.\\n</td>\n",
       "    </tr>\n",
       "    <tr>\n",
       "      <th>4</th>\n",
       "      <td>10</td>\n",
       "      <td>1</td>\n",
       "      <td>Stan</td>\n",
       "      <td>Chef said he's been bored, so he joining a gro...</td>\n",
       "    </tr>\n",
       "  </tbody>\n",
       "</table>\n",
       "</div>"
      ],
      "text/plain": [
       "  Season Episode Character                                               Line\n",
       "0     10       1      Stan         You guys, you guys! Chef is going away. \\n\n",
       "1     10       1      Kyle                        Going away? For how long?\\n\n",
       "2     10       1      Stan                                         Forever.\\n\n",
       "3     10       1      Chef                                  I'm sorry boys.\\n\n",
       "4     10       1      Stan  Chef said he's been bored, so he joining a gro..."
      ]
     },
     "execution_count": 2,
     "metadata": {},
     "output_type": "execute_result"
    }
   ],
   "source": [
    "raw_df = pd.read_csv('All-seasons.csv')\n",
    "raw_df.head()"
   ]
  },
  {
   "cell_type": "code",
   "execution_count": 3,
   "metadata": {
    "collapsed": false,
    "deletable": true,
    "editable": true
   },
   "outputs": [
    {
     "data": {
      "text/html": [
       "<div>\n",
       "<table border=\"1\" class=\"dataframe\">\n",
       "  <thead>\n",
       "    <tr style=\"text-align: right;\">\n",
       "      <th></th>\n",
       "      <th>Season</th>\n",
       "      <th>Episode</th>\n",
       "      <th>Character</th>\n",
       "      <th>Line</th>\n",
       "    </tr>\n",
       "  </thead>\n",
       "  <tbody>\n",
       "    <tr>\n",
       "      <th>count</th>\n",
       "      <td>70896</td>\n",
       "      <td>70896</td>\n",
       "      <td>70896</td>\n",
       "      <td>70896</td>\n",
       "    </tr>\n",
       "    <tr>\n",
       "      <th>unique</th>\n",
       "      <td>19</td>\n",
       "      <td>19</td>\n",
       "      <td>3950</td>\n",
       "      <td>64301</td>\n",
       "    </tr>\n",
       "    <tr>\n",
       "      <th>top</th>\n",
       "      <td>2</td>\n",
       "      <td>10</td>\n",
       "      <td>Cartman</td>\n",
       "      <td>What?\\n</td>\n",
       "    </tr>\n",
       "    <tr>\n",
       "      <th>freq</th>\n",
       "      <td>6416</td>\n",
       "      <td>5271</td>\n",
       "      <td>9774</td>\n",
       "      <td>361</td>\n",
       "    </tr>\n",
       "  </tbody>\n",
       "</table>\n",
       "</div>"
      ],
      "text/plain": [
       "       Season Episode Character     Line\n",
       "count   70896   70896     70896    70896\n",
       "unique     19      19      3950    64301\n",
       "top         2      10   Cartman  What?\\n\n",
       "freq     6416    5271      9774      361"
      ]
     },
     "execution_count": 3,
     "metadata": {},
     "output_type": "execute_result"
    }
   ],
   "source": [
    "raw_df.describe()"
   ]
  },
  {
   "cell_type": "markdown",
   "metadata": {
    "deletable": true,
    "editable": true
   },
   "source": [
    "В нашем распоряжении ~70к фраз от ~4к персонажей с первого по восемнадцатый сезоны. Выкинем всех второстепенных персонажей:"
   ]
  },
  {
   "cell_type": "code",
   "execution_count": 4,
   "metadata": {
    "collapsed": false,
    "deletable": true,
    "editable": true
   },
   "outputs": [
    {
     "name": "stdout",
     "output_type": "stream",
     "text": [
      "Character\n",
      "Cartman         9774\n",
      "Stan            7680\n",
      "Kyle            7099\n",
      "Butters         2602\n",
      "Randy           2467\n",
      "Mr. Garrison    1002\n",
      "Chef             917\n",
      "Kenny            881\n",
      "Sharon           862\n",
      "Name: Line, dtype: int64\n"
     ]
    }
   ],
   "source": [
    "# немного магии\n",
    "lines_freqs = raw_df.groupby(['Character'])['Line'].count()\n",
    "# оставляем персонажей, у которых больше восьмиста реплик\n",
    "desired_freqs = (lines_freqs > 800)\n",
    "main_characters = lines_freqs[desired_freqs].sort_values(ascending=False)\n",
    "df = raw_df.loc[raw_df['Character'].isin(main_characters.keys())].copy()\n",
    "character_to_id = {c: i for i,c in enumerate(main_characters.keys())}\n",
    "print(main_characters)"
   ]
  },
  {
   "cell_type": "code",
   "execution_count": 5,
   "metadata": {
    "collapsed": false,
    "deletable": true,
    "editable": true
   },
   "outputs": [
    {
     "data": {
      "text/plain": [
       "(33284, 4)"
      ]
     },
     "execution_count": 5,
     "metadata": {},
     "output_type": "execute_result"
    }
   ],
   "source": [
    "# число оставшихся примеров\n",
    "df.shape"
   ]
  },
  {
   "cell_type": "markdown",
   "metadata": {
    "deletable": true,
    "editable": true
   },
   "source": [
    "Теперь нам нужно сделать *токенизацию* - проще говоря, разбить каждое предложение на отдельные слова, выкинув ненужные символы вроде \"/n\"."
   ]
  },
  {
   "cell_type": "code",
   "execution_count": 6,
   "metadata": {
    "collapsed": false,
    "deletable": true,
    "editable": true
   },
   "outputs": [
    {
     "name": "stdout",
     "output_type": "stream",
     "text": [
      "Original:\n",
      "----------\n",
      "What's the matter, Mr. Hankey? Are you sick?\n",
      "\n",
      "----------\n",
      "Tokenized:\n",
      "----------\n",
      "['what', 's', 'the', 'matter', ',', 'mr', '.', 'hankey', '?', 'are', 'you', 'sick', '?'] "
     ]
    }
   ],
   "source": [
    "def tokenize_phrase(phrase_as_str):\n",
    "    # ещё немного магии\n",
    "    # r'\\w+|\\?|\\!|,|\\.' значит извлечь все слова и знаки \"?\",\"!\",\",\",\".\"\n",
    "    # r'\\w+' значит извлечь все слова\n",
    "    # r'\\w+|\\.' значит извлечь все слова и знаки \".\"\n",
    "    # ... ну вы поняли\n",
    "    # уберите .lower(), чтобы слова типо \"What\" не преобразовывались в \"what\"\n",
    "    return re.findall(r'\\w+|\\?|\\!|,|\\.', phrase_as_str.lower())\n",
    "\n",
    "# проверим на случайном примере, что всё хорошо\n",
    "rand_ex = df['Line'].sample().values[0]\n",
    "print('Original:')\n",
    "print('-'*10)\n",
    "print(rand_ex)\n",
    "print('-'*10)\n",
    "print('Tokenized:')\n",
    "print('-'*10)\n",
    "print(tokenize_phrase(rand_ex), end=' ')"
   ]
  },
  {
   "cell_type": "code",
   "execution_count": 7,
   "metadata": {
    "collapsed": false,
    "deletable": true,
    "editable": true
   },
   "outputs": [
    {
     "data": {
      "text/html": [
       "<div>\n",
       "<table border=\"1\" class=\"dataframe\">\n",
       "  <thead>\n",
       "    <tr style=\"text-align: right;\">\n",
       "      <th></th>\n",
       "      <th>Season</th>\n",
       "      <th>Episode</th>\n",
       "      <th>Character</th>\n",
       "      <th>Line</th>\n",
       "      <th>Tokenized Line</th>\n",
       "      <th>Character Id</th>\n",
       "    </tr>\n",
       "  </thead>\n",
       "  <tbody>\n",
       "    <tr>\n",
       "      <th>0</th>\n",
       "      <td>10</td>\n",
       "      <td>1</td>\n",
       "      <td>Stan</td>\n",
       "      <td>You guys, you guys! Chef is going away. \\n</td>\n",
       "      <td>[you, guys, ,, you, guys, !, chef, is, going, ...</td>\n",
       "      <td>1</td>\n",
       "    </tr>\n",
       "    <tr>\n",
       "      <th>1</th>\n",
       "      <td>10</td>\n",
       "      <td>1</td>\n",
       "      <td>Kyle</td>\n",
       "      <td>Going away? For how long?\\n</td>\n",
       "      <td>[going, away, ?, for, how, long, ?]</td>\n",
       "      <td>2</td>\n",
       "    </tr>\n",
       "    <tr>\n",
       "      <th>2</th>\n",
       "      <td>10</td>\n",
       "      <td>1</td>\n",
       "      <td>Stan</td>\n",
       "      <td>Forever.\\n</td>\n",
       "      <td>[forever, .]</td>\n",
       "      <td>1</td>\n",
       "    </tr>\n",
       "    <tr>\n",
       "      <th>3</th>\n",
       "      <td>10</td>\n",
       "      <td>1</td>\n",
       "      <td>Chef</td>\n",
       "      <td>I'm sorry boys.\\n</td>\n",
       "      <td>[i, m, sorry, boys, .]</td>\n",
       "      <td>6</td>\n",
       "    </tr>\n",
       "    <tr>\n",
       "      <th>4</th>\n",
       "      <td>10</td>\n",
       "      <td>1</td>\n",
       "      <td>Stan</td>\n",
       "      <td>Chef said he's been bored, so he joining a gro...</td>\n",
       "      <td>[chef, said, he, s, been, bored, ,, so, he, jo...</td>\n",
       "      <td>1</td>\n",
       "    </tr>\n",
       "  </tbody>\n",
       "</table>\n",
       "</div>"
      ],
      "text/plain": [
       "  Season Episode Character                                               Line  \\\n",
       "0     10       1      Stan         You guys, you guys! Chef is going away. \\n   \n",
       "1     10       1      Kyle                        Going away? For how long?\\n   \n",
       "2     10       1      Stan                                         Forever.\\n   \n",
       "3     10       1      Chef                                  I'm sorry boys.\\n   \n",
       "4     10       1      Stan  Chef said he's been bored, so he joining a gro...   \n",
       "\n",
       "                                      Tokenized Line  Character Id  \n",
       "0  [you, guys, ,, you, guys, !, chef, is, going, ...             1  \n",
       "1                [going, away, ?, for, how, long, ?]             2  \n",
       "2                                       [forever, .]             1  \n",
       "3                             [i, m, sorry, boys, .]             6  \n",
       "4  [chef, said, he, s, been, bored, ,, so, he, jo...             1  "
      ]
     },
     "execution_count": 7,
     "metadata": {},
     "output_type": "execute_result"
    }
   ],
   "source": [
    "# токенизируем каждую реплику\n",
    "df['Tokenized Line'] = df['Line'].apply(lambda row: tokenize_phrase(row))\n",
    "raw_df['Tokenized Line'] = raw_df['Line'].apply(lambda row: tokenize_phrase(row))\n",
    "\n",
    "df['Character Id'] = df['Character'].apply(lambda row: character_to_id[row])\n",
    "df.head()"
   ]
  },
  {
   "cell_type": "code",
   "execution_count": 8,
   "metadata": {
    "collapsed": false,
    "deletable": true,
    "editable": true
   },
   "outputs": [
    {
     "data": {
      "image/png": "[encoded data removed]",
      "text/plain": [
       "<matplotlib.figure.Figure at 0x7f01727819e8>"
      ]
     },
     "metadata": {},
     "output_type": "display_data"
    }
   ],
   "source": [
    "# считаем число \"слов\" в каждой реплике\n",
    "words_len = df['Tokenized Line'].apply(lambda row: len(row))\n",
    "\n",
    "plt.figure(figsize=(20,10))\n",
    "plt.hist(words_len, bins=200)\n",
    "plt.xlim((0,100))\n",
    "plt.show()"
   ]
  },
  {
   "cell_type": "code",
   "execution_count": 9,
   "metadata": {
    "collapsed": true,
    "deletable": true,
    "editable": true
   },
   "outputs": [],
   "source": [
    "# разбиваем данные на трейн и тест\n",
    "train_df = df.sample(frac=0.85,random_state=200)\n",
    "test_df = df.drop(train_df.index)\n",
    "MAX_LEN = max([len(l) for l in df['Tokenized Line']])"
   ]
  },
  {
   "cell_type": "markdown",
   "metadata": {
    "deletable": true,
    "editable": true
   },
   "source": [
    "Итак, мы решаем задачу классификации преимущественно коротких фраз (как видно из графика выше) на большое количество классов."
   ]
  },
  {
   "cell_type": "markdown",
   "metadata": {
    "deletable": true,
    "editable": true
   },
   "source": [
    "### 2. Обучение FastText"
   ]
  },
  {
   "cell_type": "markdown",
   "metadata": {
    "deletable": true,
    "editable": true
   },
   "source": [
    "На прошлой лекции вы познакомились со схемой word2vec.\n",
    "\n",
    "Для её обучения на наших конкретных данных нужно:\n",
    "1. Склеить всё, что можно, в единый массив текста - *корпус*.\n",
    "2. Проиндексировать слова в корпусе, выкинув слишком редкие.\n",
    "3. Сделать генерацию примеров для обучения.\n",
    "4. Реализовать cbow (предсказание центрального слова по контексту) или skip-gram (наоборот).\n",
    "5. Обучить на корпусе и проверить корректность полученных векторов.\n",
    "\n",
    "Основная проблема в таком подходе - время. В [самой лучшей](https://arxiv.org/abs/1712.09405) на обучение векторов тратится примерно три дня, при этом используется масса ухищрений и оптимизаций.\n"
   ]
  },
  {
   "cell_type": "markdown",
   "metadata": {
    "deletable": true,
    "editable": true
   },
   "source": [
    "Можно было бы взять готовый word2vec и доучить его на наших данных, или использовать [tf-idf](https://www.kaggle.com/agaleana/predicting-south-park-dialogues), но мы пойдём другим путём.\n",
    "\n",
    "А именно, напишем очень простую, но эффективную для классификации модель - [FastText](https://arxiv.org/abs/1607.01759).\n",
    "\n",
    "Вся суть описывается картинкой:"
   ]
  },
  {
   "cell_type": "markdown",
   "metadata": {
    "deletable": true,
    "editable": true
   },
   "source": [
    "<img src=\"http://wellyzhang.github.io/img/in-post/fastText/model.jpg\">"
   ]
  },
  {
   "cell_type": "markdown",
   "metadata": {
    "deletable": true,
    "editable": true
   },
   "source": [
    "Где output - это вектор размерности (в нашем случае) девять, отвечающий каждому классу."
   ]
  },
  {
   "cell_type": "markdown",
   "metadata": {
    "deletable": true,
    "editable": true
   },
   "source": [
    "В задании предлагается написать свой FastText, а также ответить на несколько вопросов."
   ]
  },
  {
   "cell_type": "markdown",
   "metadata": {
    "deletable": true,
    "editable": true
   },
   "source": [
    "1. Реализуйте FastText на девять классов(с обычным softmax). В качестве ошибки для обучения используете [Negative Log Likelihood](http://pytorch.org/docs/master/nn.html#nllloss). (5 баллов)\n",
    "2. Как влияет на качество учёт знаков препинания и \"мусорных\" слов (предлогов, междометий), а также больших букв? Сравните качество модели в трёх случаях: со всеми словами и символами, без частых слов и символов (используйте nltk.corpus.stopwords) и без редких слов. Сделайте выводы. (2 балла)\n",
    "3. В чём причина низкого качества решения? Приведите несколько примеров, на которых модель ошибается, и предложите, как можно её улучшить (2 балла).\n",
    "4. Получите accuracy не ниже 42% на данных (вам поможет инициализация, dropout, а также [subsampling](https://arxiv.org/abs/1712.09405) (случайное удаление слов с вероятностью $\\sqrt(\\frac{1}{p(w)}),$ где $p(w)$ - частота, с которой встречается слово)) (3 балла). Если получите качество выше 50% (не меняя ничего в первой части) - 10 баллов автоматом."
   ]
  },
  {
   "cell_type": "code",
   "execution_count": 10,
   "metadata": {
    "collapsed": false,
    "deletable": true,
    "editable": true
   },
   "outputs": [
    {
     "name": "stdout",
     "output_type": "stream",
     "text": [
      "it s true . but are you back for good ? that s right . hey everybody ! chef s back ! what ? all right ! yeah ! oh , finally ! wow ! it seems like you had a great time with the super adventure club , chef . they sound like really interesting people . yeah ! but now that you re back here , does that mean that you re not in the super adventure club anymore ? nnono ! ohhh , so have you decided you can still belong to the super adventure club but\n"
     ]
    }
   ],
   "source": [
    "# собираем корпус фраз\n",
    "raw_corpus = []\n",
    "# параллельно запоминаем словарь слов\n",
    "raw_words_set = set()\n",
    "\n",
    "for line in raw_df['Tokenized Line']:\n",
    "    raw_corpus += line\n",
    "    raw_words_set |= set(line)\n",
    "\n",
    "print(' '.join(raw_corpus[234:334]))"
   ]
  },
  {
   "cell_type": "code",
   "execution_count": 11,
   "metadata": {
    "collapsed": false,
    "deletable": true,
    "editable": true
   },
   "outputs": [
    {
     "name": "stdout",
     "output_type": "stream",
     "text": [
      "Vocab_size: 25063\n"
     ]
    }
   ],
   "source": [
    "words_set = raw_words_set\n",
    "words_set |= set(['<end>'])\n",
    "# некоторые из слов здесь можно выбросить\n",
    "print('Vocab_size:', len(words_set))"
   ]
  },
  {
   "cell_type": "code",
   "execution_count": 12,
   "metadata": {
    "collapsed": false,
    "deletable": true,
    "editable": true
   },
   "outputs": [],
   "source": [
    "# индексируем слова\n",
    "id_to_word = {i: word for i, word in enumerate(words_set)}\n",
    "word_to_id = {word: i for i, word in enumerate(words_set)}\n",
    "\n",
    "# corpus - вектор натуральных чисел от 0 до vocab_size \n",
    "corpus = np.array([word_to_id[word] for word in raw_corpus if word in words_set])"
   ]
  },
  {
   "cell_type": "code",
   "execution_count": 13,
   "metadata": {
    "collapsed": true,
    "deletable": true,
    "editable": true
   },
   "outputs": [],
   "source": [
    "def process_phrase(phrase):\n",
    "    # преобразование фразы в id-шники\n",
    "    processed = [word_to_id['<end>']] * MAX_LEN\n",
    "    for index, word in enumerate(phrase):\n",
    "        if word in words_set:\n",
    "            processed[index] = word_to_id[word]\n",
    "    return processed\n",
    "\n",
    "def sample_batch(df, batch_size=32, offset=None):\n",
    "    # генерация примеров\n",
    "    if offset is None:\n",
    "        batch = df.sample(n=batch_size)\n",
    "    else:\n",
    "        batch = df.iloc[range(offset, \n",
    "                              min(offset + batch_size, len(df)))]\n",
    "    phrases = batch['Tokenized Line'].values\n",
    "    \n",
    "    X_batch = np.array([process_phrase(phrase) for phrase in phrases])\n",
    "    y_batch = batch['Character Id'].values\n",
    "    phrase_lengths = np.array([len(phrase) for phrase in phrases])\n",
    "    return X_batch, y_batch, phrase_lengths"
   ]
  },
  {
   "cell_type": "code",
   "execution_count": 27,
   "metadata": {
    "collapsed": false,
    "deletable": true,
    "editable": true
   },
   "outputs": [
    {
     "name": "stdout",
     "output_type": "stream",
     "text": [
      "['oh', 'my', 'got', ',', 'they', 've', 'killed', 'kenny', '!', '<end>', '<end>', '<end>', '<end>', '<end>', '<end>', '<end>', '<end>', '<end>', '<end>', '<end>', '<end>', '<end>', '<end>', '<end>', '<end>', '<end>', '<end>', '<end>', '<end>', '<end>'] ... 381\n"
     ]
    }
   ],
   "source": [
    "ex_process = process_phrase(['oh', 'my', 'got', ',', 'they', 've', 'killed', 'kenny', '!'])\n",
    "print([id_to_word[temp] for temp in ex_process][:30], '...', len(ex_process))"
   ]
  },
  {
   "cell_type": "code",
   "execution_count": 14,
   "metadata": {
    "collapsed": false,
    "deletable": true,
    "editable": true
   },
   "outputs": [],
   "source": [
    "class FastTextClassifier(nn.Module):\n",
    "    def __init__(self, vocab_size, embed_dim, n_classes):\n",
    "        super(FastTextClassifier, self).__init__()\n",
    "        <эмбеддинги из индексов в нужную размерность>\n",
    "        <линейное преобразование>\n",
    "        <инициализация весов>\n",
    "    \n",
    "    def init_emb(self, embed_dim, n_classes):\n",
    "        <веса инициализируете так>\n",
    "        my_layer.weight.data.uniform(-value, value)\n",
    "        \n",
    "    def forward(self, inputs, lengths):\n",
    "        <получаем ненормированный score>\n",
    "        <передаём в лог-софтмакс для использования в NLLLoss>\n",
    "        return F.log_softmax(my_probs)"
   ]
  },
  {
   "cell_type": "code",
   "execution_count": 15,
   "metadata": {
    "collapsed": false,
    "deletable": true,
    "editable": true
   },
   "outputs": [],
   "source": [
    "from sklearn.metrics import accuracy_score\n",
    "\n",
    "def get_accuracy(df, model):\n",
    "    # число правильных ответов модели\n",
    "    cbatch_size = 32\n",
    "    y_pred = np.zeros(len(df))\n",
    "    \n",
    "    for i in range(0, len(df), cbatch_size):\n",
    "        batch_X, batch_y, batch_lengths = sample_batch(df, cbatch_size, offset=i)\n",
    "        predictions_proba = torch.exp(model(Variable(torch.LongTensor(batch_X)), \n",
    "                          Variable(torch.FloatTensor(batch_lengths))))\n",
    "        predictions = torch.max(predictions_proba, 1)[1]\n",
    "        y_pred[i:min(i+cbatch_size, len(df))] = predictions\n",
    "    return accuracy_score(y_pred, df['Character Id'])"
   ]
  },
  {
   "cell_type": "code",
   "execution_count": 16,
   "metadata": {
    "collapsed": false,
    "deletable": true,
    "editable": true
   },
   "outputs": [
    {
     "name": "stdout",
     "output_type": "stream",
     "text": [
      "Init accuracy: 0.17905067093931504\n"
     ]
    }
   ],
   "source": [
    "EMBED_DIM = <размерность векторов>\n",
    "LR = 1e-3\n",
    "\n",
    "fast_clf = FastTextClassifier(len(words_set), EMBED_DIM, len(main_characters))\n",
    "loss_function = <neg log likelihood>\n",
    "optimizer = <adam>\n",
    "\n",
    "print('Init accuracy:', get_accuracy(test_df, fast_clf))"
   ]
  },
  {
   "cell_type": "code",
   "execution_count": 17,
   "metadata": {
    "collapsed": false,
    "deletable": true,
    "editable": true
   },
   "outputs": [
    {
     "name": "stdout",
     "output_type": "stream",
     "text": [
      "EPOCH: 0\n",
      "AVG LOSSS: 1.841685851774604\n",
      "TEST ACCURACY: 0.3128379731624274\n",
      "----------\n",
      "EPOCH: 1\n",
      "AVG LOSSS: 1.7642229865579044\n",
      "TEST ACCURACY: 0.3228519927899059\n",
      "----------\n",
      "EPOCH: 2\n",
      "AVG LOSSS: 1.6911333869485294\n",
      "TEST ACCURACY: 0.36611255758061284\n",
      "----------\n",
      "EPOCH: 3\n",
      "AVG LOSSS: 1.6118695703566883\n",
      "TEST ACCURACY: 0.3566993791307831\n",
      "----------\n",
      "EPOCH: 4\n",
      "AVG LOSSS: 1.544486895945277\n",
      "TEST ACCURACY: 0.39535349489285\n",
      "----------\n",
      "EPOCH: 5\n",
      "AVG LOSSS: 1.4915567113263575\n",
      "TEST ACCURACY: 0.39114760664930903\n",
      "----------\n",
      "EPOCH: 6\n",
      "AVG LOSSS: 1.4398582769195418\n",
      "TEST ACCURACY: 0.4121770478670138\n",
      "----------\n",
      "EPOCH: 7\n",
      "AVG LOSSS: 1.3907952632299916\n",
      "TEST ACCURACY: 0.4203885439615462\n",
      "----------\n",
      "EPOCH: 8\n",
      "AVG LOSSS: 1.3481398362379808\n",
      "TEST ACCURACY: 0.41798517925095136\n",
      "----------\n",
      "EPOCH: 9\n",
      "AVG LOSSS: 1.305146644557763\n",
      "TEST ACCURACY: 0.3971560184257961\n",
      "----------\n",
      "FINISHED\n"
     ]
    }
   ],
   "source": [
    "n_epochs = <число эпох>\n",
    "batch_size = <размер батча>\n",
    "n_steps_per_epoch = <число шагов за эпоху>\n",
    "\n",
    "losses = []\n",
    "accuracies = []\n",
    "old_test_accuracy = 0\n",
    "\n",
    "for epoch in range(n_epochs):\n",
    "    epoch_loss = torch.Tensor([0])\n",
    "    for i in range(n_steps_per_epoch):\n",
    "        batch_X, batch_y, batch_lengths = sample_batch(train_df, batch_size)\n",
    "        \n",
    "        fast_clf.zero_grad()\n",
    "        \n",
    "        <Получение ответов по выборке, пересчёт лосса>\n",
    "        \n",
    "        batch_loss.backward()\n",
    "        optimizer.step()\n",
    "        \n",
    "        epoch_loss += batch_loss.data\n",
    "        losses += [batch_loss.data]\n",
    "    print('EPOCH:', epoch)\n",
    "    print('AVG LOSSS:', epoch_loss.numpy()[0] / n_steps_per_epoch)\n",
    "    test_accuracy = get_accuracy(test_df, fast_clf)\n",
    "    accuracies += [test_accuracy]\n",
    "    print('TEST ACCURACY:', test_accuracy)\n",
    "    print('-'*10)\n",
    "    if <Критерий остановки>:\n",
    "        break\n",
    "    else:\n",
    "        old_test_accuracy = test_accuracy\n",
    "print('FINISHED')"
   ]
  },
  {
   "cell_type": "code",
   "execution_count": 22,
   "metadata": {
    "collapsed": false,
    "deletable": true,
    "editable": true
   },
   "outputs": [
    {
     "name": "stdout",
     "output_type": "stream",
     "text": [
      "Final accuracy: 0.40216302823953537\n"
     ]
    }
   ],
   "source": [
    "print('Final accuracy:', get_accuracy(test_df, fast_clf))"
   ]
  }
 ],
 "metadata": {
  "kernelspec": {
   "display_name": "Python [default]",
   "language": "python",
   "name": "python3"
  },
  "language_info": {
   "codemirror_mode": {
    "name": "ipython",
    "version": 3
   },
   "file_extension": ".py",
   "mimetype": "text/x-python",
   "name": "python",
   "nbconvert_exporter": "python",
   "pygments_lexer": "ipython3",
   "version": "3.5.3"
  }
 },
 "nbformat": 4,
 "nbformat_minor": 2
}
